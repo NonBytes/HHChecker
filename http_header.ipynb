{
 "cells": [
  {
   "cell_type": "markdown",
   "id": "5be90064",
   "metadata": {},
   "source": [
    "# HTTP Header Security Check\n",
    "This notebook checks the security headers of a given URL and allows the user to input cookies and verify a custom CORS setting."
   ]
  },
  {
   "cell_type": "code",
   "execution_count": 4,
   "id": "9e1755b9",
   "metadata": {},
   "outputs": [],
   "source": [
    "\n",
    "import requests\n",
    "from colorama import Fore, Style\n",
    "\n",
    "def check_headers(url, cookies=None, custom_cors=None):\n",
    "    security_headers = {\n",
    "        \"Strict-Transport-Security\": \"Missing or misconfigured. Should be set to 'max-age=31536000; includeSubDomains; preload'\",\n",
    "        \"Content-Security-Policy\": \"Missing. Should be set to prevent XSS and other attacks.\",\n",
    "        \"X-Frame-Options\": \"Missing. Should be 'DENY' or 'SAMEORIGIN' to prevent clickjacking.\",\n",
    "        \"X-Content-Type-Options\": \"Missing. Should be 'nosniff' to prevent MIME type sniffing.\",\n",
    "        \"Referrer-Policy\": \"Missing. Should be 'no-referrer' or 'strict-origin-when-cross-origin' to limit referrer information.\",\n",
    "        \"Permissions-Policy\": \"Missing. Should restrict browser features like camera, microphone, and geolocation.\",\n",
    "        \"Cache-Control\": \"Missing. Should be 'no-store' or 'max-age=0, no-cache, must-revalidate' to control caching.\",\n",
    "        \"Set-Cookie\": \"Secure flag missing in cookies. Should have 'Secure; HttpOnly; SameSite=Strict' or 'Lax'.\",\n",
    "        \"Access-Control-Allow-Origin\": \"Missing or misconfigured. Should be set to a specific trusted domain or 'none' to prevent unauthorized cross-origin access.\"\n",
    "    }\n",
    "    \n",
    "    try:\n",
    "        headers = {}\n",
    "        if cookies:\n",
    "            headers[\"Cookie\"] = cookies\n",
    "        if custom_cors:\n",
    "            headers[\"Origin\"] = custom_cors\n",
    "        \n",
    "        response = requests.get(url, headers=headers, timeout=10)\n",
    "        response_headers = response.headers\n",
    "        \n",
    "        print(f\"Checking security headers for: {url}\\n\")\n",
    "        print(\"Received Headers:\")\n",
    "        for key, value in response_headers.items():\n",
    "            print(f\"{key}: {value}\")\n",
    "        print(\"\\nSecurity Check Results:\")\n",
    "        \n",
    "        for header, recommendation in security_headers.items():\n",
    "            if header not in response_headers:\n",
    "                print(Fore.RED + f\"[!] {header} - {recommendation}\" + Style.RESET_ALL)\n",
    "            elif header == \"Strict-Transport-Security\" and \"max-age\" not in response_headers[header]:\n",
    "                print(Fore.RED + f\"[!] {header} - Incorrectly configured. {recommendation}\" + Style.RESET_ALL)\n",
    "            elif header == \"Set-Cookie\" and \"Secure\" not in response_headers.get(\"Set-Cookie\", \"\"):\n",
    "                print(Fore.RED + f\"[!] {header} - Secure flag missing in cookies. {recommendation}\" + Style.RESET_ALL)\n",
    "            elif header == \"Access-Control-Allow-Origin\":\n",
    "                if custom_cors and response_headers.get(header, \"\") != custom_cors:\n",
    "                    print(Fore.RED + f\"[!] {header} - Expected '{custom_cors}' but received '{response_headers.get(header, 'None')}'. {recommendation}\" + Style.RESET_ALL)\n",
    "                elif response_headers.get(header, \"\") == \"*\":\n",
    "                    print(Fore.RED + f\"[!] {header} - Wildcard '*' is insecure. {recommendation}\" + Style.RESET_ALL)\n",
    "                else:\n",
    "                    print(Fore.GREEN + f\"[+] {header} is properly configured.\" + Style.RESET_ALL)\n",
    "            else:\n",
    "                print(Fore.GREEN + f\"[+] {header} is properly configured.\" + Style.RESET_ALL)\n",
    "        \n",
    "    except requests.RequestException as e:\n",
    "        print(Fore.RED + f\"Error fetching {url}: {e}\" + Style.RESET_ALL)\n",
    "    "
   ]
  },
  {
   "cell_type": "code",
   "execution_count": 5,
   "id": "95b0154f",
   "metadata": {},
   "outputs": [
    {
     "name": "stdout",
     "output_type": "stream",
     "text": [
      "Checking security headers for: https://www.incognitolab.com\n",
      "\n",
      "Received Headers:\n",
      "Content-Type: text/html; charset=utf-8\n",
      "X-Frame-Options: SAMEORIGIN\n",
      "X-Content-Type-Options: nosniff\n",
      "X-XSS-Protection: 1; mode=block\n",
      "Strict-Transport-Security: max-age=15552000; preload\n",
      "X-HTML-Minification-Powered-By: WebMarkupMin\n",
      "X-Akamai-Transformed: 9 - 0 pmb=mRUM,1\n",
      "Content-Encoding: gzip\n",
      "Expires: Wed, 05 Mar 2025 12:24:49 GMT\n",
      "Cache-Control: max-age=0, no-cache, no-store\n",
      "Pragma: no-cache\n",
      "Date: Wed, 05 Mar 2025 12:24:49 GMT\n",
      "Content-Length: 17744\n",
      "Connection: keep-alive\n",
      "Vary: Accept-Encoding\n",
      "Set-Cookie: .AspNetCore.Antiforgery.74e8e92a=CfDJ8MctMbDkPHdFh9z17f3KAoWkMpHPxYCDYqTs8jnWxFL9GjYtrP5d0bAPPc2mtlkqPYghtIIjEXzeG5rA3vv33AVs6r9rTx_YF25bpWO_KdI0vrmcVCG8iDJmqw0YMLQPwZ97PWRc0re2wyBn0IYASRQ; path=/; samesite=strict; httponly\n",
      "Server-Timing: edge; dur=28, origin; dur=109, cdn-cache; desc=MISS, ak_p; desc=\"1741177488877_389964262_1862030080_13653_3113_31_44_-\";dur=1\n",
      "Alt-Svc: h3=\":443\"; ma=93600\n",
      "\n",
      "Security Check Results:\n",
      "\u001b[32m[+] Strict-Transport-Security is properly configured.\u001b[0m\n",
      "\u001b[31m[!] Content-Security-Policy - Missing. Should be set to prevent XSS and other attacks.\u001b[0m\n",
      "\u001b[32m[+] X-Frame-Options is properly configured.\u001b[0m\n",
      "\u001b[32m[+] X-Content-Type-Options is properly configured.\u001b[0m\n",
      "\u001b[31m[!] Referrer-Policy - Missing. Should be 'no-referrer' or 'strict-origin-when-cross-origin' to limit referrer information.\u001b[0m\n",
      "\u001b[31m[!] Permissions-Policy - Missing. Should restrict browser features like camera, microphone, and geolocation.\u001b[0m\n",
      "\u001b[32m[+] Cache-Control is properly configured.\u001b[0m\n",
      "\u001b[31m[!] Set-Cookie - Secure flag missing in cookies. Secure flag missing in cookies. Should have 'Secure; HttpOnly; SameSite=Strict' or 'Lax'.\u001b[0m\n",
      "\u001b[31m[!] Access-Control-Allow-Origin - Missing or misconfigured. Should be set to a specific trusted domain or 'none' to prevent unauthorized cross-origin access.\u001b[0m\n"
     ]
    }
   ],
   "source": [
    "\n",
    "# User Inputs\n",
    "target_url = input(\"Enter the URL to check: \").strip()\n",
    "cookies = input(\"Enter cookies (if any, else press Enter to skip): \").strip()\n",
    "cookies = cookies if cookies else None\n",
    "custom_cors = input(\"Enter expected CORS value (if any, else press Enter to skip): \").strip()\n",
    "custom_cors = custom_cors if custom_cors else None\n",
    "\n",
    "# Run the security check\n",
    "check_headers(target_url, cookies, custom_cors)\n"
   ]
  }
 ],
 "metadata": {
  "kernelspec": {
   "display_name": "Python 3",
   "language": "python",
   "name": "python3"
  },
  "language_info": {
   "codemirror_mode": {
    "name": "ipython",
    "version": 3
   },
   "file_extension": ".py",
   "mimetype": "text/x-python",
   "name": "python",
   "nbconvert_exporter": "python",
   "pygments_lexer": "ipython3",
   "version": "3.13.1"
  }
 },
 "nbformat": 4,
 "nbformat_minor": 5
}
